{
 "cells": [
  {
   "cell_type": "code",
   "execution_count": 32,
   "id": "1ffe0fb2-121d-4346-9cb4-eb73fdd7fc0d",
   "metadata": {},
   "outputs": [],
   "source": [
    "import re\n",
    "# Normalize function\n",
    "def normalize_name(name):\n",
    "    return re.sub(r'[^a-zA-Z0-9]', '', name.lower().strip())\n",
    "\n",
    "\n",
    "def merge_entries(entries):\n",
    "    # Merge logic: choose entry with most filled fields\n",
    "    entries = sorted(entries, key=lambda e: sum(1 for v in e.values() if v), reverse=True)\n",
    "    merged = entries[0].copy()\n",
    "    \n",
    "    # Merge pairings and name_variants from all entries\n",
    "    all_pairings = set()\n",
    "    all_variants = set()\n",
    "    for e in entries:\n",
    "        all_pairings.update(e.get(\"pairings\", []))\n",
    "        all_variants.update(e.get(\"name_variants\", []))\n",
    "\n",
    "    merged[\"pairings\"] = sorted(list(all_pairings))\n",
    "    merged[\"name_variants\"] = sorted(list(all_variants))\n",
    "    merged[\"original_ids\"] = [e[\"id\"] for e in entries]\n",
    "    \n",
    "    return merged\n",
    "    \n",
    "def deduplicate_ingredients(ingredient_list):\n",
    "    name_map = defaultdict(list)\n",
    "\n",
    "    for entry in ingredient_list:\n",
    "        norm_name = normalize(entry[\"name\"])\n",
    "        name_map[norm_name].append(entry)\n",
    "\n",
    "    deduped = []\n",
    "    for name_group in name_map.values():\n",
    "        if len(name_group) == 1:\n",
    "            deduped.append(name_group[0])\n",
    "        else:\n",
    "            deduped.append(merge_entries(name_group))\n",
    "\n",
    "    return deduped"
   ]
  },
  {
   "cell_type": "code",
   "execution_count": 33,
   "id": "ae9ba787-f67a-4695-b369-e01c24eecf27",
   "metadata": {},
   "outputs": [],
   "source": [
    "# Fields you want to keep from each food.json record\n",
    "fields_to_keep = [\n",
    "    \"id\",\n",
    "    \"name\",\n",
    "    \"food_db_id\", \n",
    "    \"food_db_name\", \n",
    "    \"name_scientific\", \n",
    "    \"description\",\n",
    "    \"food_group\", \n",
    "    \"food_subgroup\", \n",
    "    \"food_type\", \n",
    "    \"category\", \n",
    "    \"ncbi_taxonomy_id\", \n",
    "    \"itis_id\", \n",
    "    \"public_id\"\n",
    "    \"flavor_bible_name_variants\", \n",
    "    \"flavor_bible_pairings_ids\", \n",
    "    \"source\", \n",
    "    \"status\", \n",
    "]"
   ]
  },
  {
   "cell_type": "code",
   "execution_count": 34,
   "id": "3442f52f-7b9f-48a6-85a6-a7a031a7c86a",
   "metadata": {},
   "outputs": [],
   "source": [
    "def strip_fields(entry):\n",
    "    return {key: value for key, value in entry.items() if key in fields_to_keep}"
   ]
  },
  {
   "cell_type": "code",
   "execution_count": 35,
   "id": "1f4ea834-72b4-400d-b098-29bddb2e7230",
   "metadata": {},
   "outputs": [],
   "source": [
    "def clean_food_data(food_data):\n",
    "    return [strip_fields(entry) for entry in food_data]"
   ]
  },
  {
   "cell_type": "code",
   "execution_count": 40,
   "id": "33ea08ad-d9a4-475a-8015-4210a97a9892",
   "metadata": {},
   "outputs": [],
   "source": [
    "import json\n",
    "from collections import defaultdict\n",
    "with open(\"../data/ingredients/merged/ingredients.json\") as f:\n",
    "    raw_data = json.load(f)"
   ]
  },
  {
   "cell_type": "code",
   "execution_count": 41,
   "id": "f025521e-b5c0-459e-adef-907b25bd3748",
   "metadata": {},
   "outputs": [],
   "source": [
    "# Python 3.7+ maintains dict order, but you can use OrderedDict if needed\n",
    "from collections import OrderedDict\n",
    "\n",
    "# Desired order of fields\n",
    "field_order = [\n",
    "    \"id\",\n",
    "    \"name\",\n",
    "    \"food_db_id\", \n",
    "    \"food_db_name\", \n",
    "    \"name_scientific\", \n",
    "    \"description\",\n",
    "    \"food_group\", \n",
    "    \"food_subgroup\", \n",
    "    \"food_type\", \n",
    "    \"category\", \n",
    "    \"ncbi_taxonomy_id\", \n",
    "    \"itis_id\", \n",
    "    \"public_id\"\n",
    "    \"flavor_bible_name_variants\", \n",
    "    \"flavor_bible_pairings_ids\", \n",
    "    \"source\", \n",
    "    \"status\", \n",
    "]\n",
    "\n",
    "def reorder_fields(entry, field_order):\n",
    "    return {field: entry.get(field) for field in field_order if field in entry}\n",
    "\n",
    "def reorder_all(data, field_order):\n",
    "    return [reorder_fields(entry, field_order) for entry in data]"
   ]
  },
  {
   "cell_type": "code",
   "execution_count": 42,
   "id": "bccd614a-9ea9-415b-b853-20dab3f0471b",
   "metadata": {},
   "outputs": [],
   "source": [
    "cleaned = clean_food_data(raw_data)\n",
    "deduped = deduplicate_ingredients(cleaned)\n",
    "reordered = reorder_all(deduped, field_order)"
   ]
  },
  {
   "cell_type": "code",
   "execution_count": 43,
   "id": "4d5fa7f0-8ee0-4f09-a8e4-260caee92178",
   "metadata": {},
   "outputs": [],
   "source": [
    "with open(\"../data/ingredients/merged/cleaned_deduped_food.json\", \"w\") as f:\n",
    "    json.dump(reordered, f, indent=2)"
   ]
  }
 ],
 "metadata": {
  "kernelspec": {
   "display_name": "interactive-cookbook",
   "language": "python",
   "name": "interactive-cookbook"
  },
  "language_info": {
   "codemirror_mode": {
    "name": "ipython",
    "version": 3
   },
   "file_extension": ".py",
   "mimetype": "text/x-python",
   "name": "python",
   "nbconvert_exporter": "python",
   "pygments_lexer": "ipython3",
   "version": "3.13.5"
  }
 },
 "nbformat": 4,
 "nbformat_minor": 5
}
