{
 "cells": [
  {
   "cell_type": "code",
   "execution_count": null,
   "id": "1ffe0fb2-121d-4346-9cb4-eb73fdd7fc0d",
   "metadata": {},
   "outputs": [],
   "source": [
    "def deduplicate_ingredients(ingredient_list):\n",
    "    name_map = defaultdict(list)\n",
    "\n",
    "    for entry in ingredient_list:\n",
    "        norm_name = normalize_name(entry[\"name\"])\n",
    "        name_map[norm_name].append(entry)\n",
    "\n",
    "    deduped = []\n",
    "    for name_group in name_map.values():\n",
    "        if len(name_group) == 1:\n",
    "            deduped.append(name_group[0])\n",
    "        else:\n",
    "            deduped.append(merge_entries(name_group))\n",
    "\n",
    "    return deduped"
   ]
  },
  {
   "cell_type": "code",
   "execution_count": null,
   "id": "ae9ba787-f67a-4695-b369-e01c24eecf27",
   "metadata": {},
   "outputs": [],
   "source": [
    "# Fields you want to keep from each food.json record\n",
    "fields_to_keep = [\n",
    "    \"id\", \"name\", \"name_variants\", \"pairings\", \"description\",\n",
    "    \"taxonomy\", \"organism_part\", \"origin\", \"food_db_id\"\n",
    "]"
   ]
  },
  {
   "cell_type": "code",
   "execution_count": null,
   "id": "3442f52f-7b9f-48a6-85a6-a7a031a7c86a",
   "metadata": {},
   "outputs": [],
   "source": [
    "def strip_fields(entry):\n",
    "    return {key: value for key, value in entry.items() if key in fields_to_keep}"
   ]
  },
  {
   "cell_type": "code",
   "execution_count": null,
   "id": "1f4ea834-72b4-400d-b098-29bddb2e7230",
   "metadata": {},
   "outputs": [],
   "source": [
    "def clean_food_data(food_data):\n",
    "    return [strip_fields(entry) for entry in food_data]"
   ]
  },
  {
   "cell_type": "code",
   "execution_count": null,
   "id": "33ea08ad-d9a4-475a-8015-4210a97a9892",
   "metadata": {},
   "outputs": [],
   "source": [
    "with open(\"../data/ingredients/merged/cleaned_deduped_food.json\") as f:\n",
    "    raw_data = json.load(f)"
   ]
  },
  {
   "cell_type": "code",
   "execution_count": null,
   "id": "bccd614a-9ea9-415b-b853-20dab3f0471b",
   "metadata": {},
   "outputs": [],
   "source": [
    "cleaned = clean_food_data(raw_data)\n",
    "deduped = deduplicate_ingredients(cleaned)"
   ]
  },
  {
   "cell_type": "code",
   "execution_count": null,
   "id": "4d5fa7f0-8ee0-4f09-a8e4-260caee92178",
   "metadata": {},
   "outputs": [],
   "source": [
    "with open(\"../data/ingredients/merged/cleaned_deduped_food.json\", \"w\") as f:\n",
    "    json.dump(deduped, f, indent=2)"
   ]
  }
 ],
 "metadata": {
  "kernelspec": {
   "display_name": "interactive-cookbook",
   "language": "python",
   "name": "interactive-cookbook"
  },
  "language_info": {
   "codemirror_mode": {
    "name": "ipython",
    "version": 3
   },
   "file_extension": ".py",
   "mimetype": "text/x-python",
   "name": "python",
   "nbconvert_exporter": "python",
   "pygments_lexer": "ipython3",
   "version": "3.13.5"
  }
 },
 "nbformat": 4,
 "nbformat_minor": 5
}
