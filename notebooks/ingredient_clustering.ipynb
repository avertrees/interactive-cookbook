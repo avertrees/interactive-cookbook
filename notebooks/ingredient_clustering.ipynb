{
 "cells": [
  {
   "cell_type": "code",
   "execution_count": 48,
   "id": "8e07ee44-f774-43ad-b4ff-0b033ef40c93",
   "metadata": {},
   "outputs": [
    {
     "name": "stdout",
     "output_type": "stream",
     "text": [
      "{'main': 'ACHIOTE SEEDS', 'pairing': 'achiote + pork + sour orange'}\n"
     ]
    }
   ],
   "source": [
    "import json\n",
    "import re\n",
    "index_data = []\n",
    "# Load index.json\n",
    "with open('../data/raw/index.json') as f:\n",
    "    index_data = json.load(f)['results']\n",
    "\n",
    "# Load flavor_bible_full.json\n",
    "with open('../data/raw/flavor_bible_full.json') as f:\n",
    "    flavor_bible = json.load(f)\n",
    "\n",
    "# Normalize function\n",
    "def normalize(name):\n",
    "    return re.sub(r'[^a-zA-Z\\s]', '', name.lower()).strip()\n",
    "\n",
    "# Normalize flavor data into dict for lookup\n",
    "flavor_map = {normalize(item['main']): item for item in flavor_bible}\n",
    "flavor_map_sample = flavor_map['achiote seeds']\n",
    "print(flavor_map_sample)"
   ]
  },
  {
   "cell_type": "code",
   "execution_count": 24,
   "id": "75425361-c776-45c9-8b02-3d1e5f28241c",
   "metadata": {},
   "outputs": [],
   "source": [
    "from sentence_transformers import SentenceTransformer\n",
    "from sklearn.cluster import AgglomerativeClustering\n",
    "from collections import defaultdict\n",
    "\n",
    "model = SentenceTransformer(\"all-MiniLM-L6-v2\")\n",
    "embeddings = model.encode(index_data)\n",
    "\n",
    "clustering = AgglomerativeClustering(n_clusters=None, distance_threshold=1.2)\n",
    "labels = clustering.fit_predict(embeddings)\n",
    "\n",
    "# Group by cluster\n",
    "clusters = defaultdict(list)\n",
    "for label, name in zip(labels, index_data):\n",
    "    clusters[label].append(name)"
   ]
  },
  {
   "cell_type": "code",
   "execution_count": 25,
   "id": "32208cc7-459f-4033-b980-6844b4294239",
   "metadata": {},
   "outputs": [
    {
     "name": "stdout",
     "output_type": "stream",
     "text": [
      "['bread', 'bread, bagels', 'bread, breadsticks, croutons, etc.', 'bread, crusty', 'bread, french', 'bread, olive', 'bread, pita', 'bread, pumpernickel', 'bread, white', 'breads', 'breads and breadsticks', 'nut bread', 'walnut bread']\n"
     ]
    }
   ],
   "source": [
    "sample = clusters[1]\n",
    "print(sample)"
   ]
  },
  {
   "cell_type": "code",
   "execution_count": 45,
   "id": "c11168ce-3335-4041-9b22-d0b7693b68dd",
   "metadata": {},
   "outputs": [
    {
     "name": "stdout",
     "output_type": "stream",
     "text": [
      "bread\n"
     ]
    }
   ],
   "source": [
    "from collections import Counter\n",
    "\n",
    "def get_cluster_root(names):\n",
    "    token_counts = Counter()\n",
    "    for name in names:\n",
    "        words = re.sub(r'[^a-zA-Z\\s]', '', name.lower()).split()\n",
    "        token_counts.update(words)\n",
    "    return token_counts.most_common(1)[0][0]  # e.g. \"apple\"\n",
    "\n",
    "cluster_root_sample=get_cluster_root(sample)\n",
    "print(cluster_root_sample)\n"
   ]
  },
  {
   "cell_type": "code",
   "execution_count": 49,
   "id": "ee30cd48-3a4a-4416-9db6-0e842e2300ae",
   "metadata": {},
   "outputs": [
    {
     "name": "stdout",
     "output_type": "stream",
     "text": [
      "bread\n"
     ]
    }
   ],
   "source": [
    "# def normalize(name):\n",
    "#     return re.sub(r'[^a-zA-Z\\s]', '', name.lower()).strip()\n",
    "\n",
    "print(normalize(cluster_root_sample))"
   ]
  },
  {
   "cell_type": "code",
   "execution_count": 41,
   "id": "43522508-f119-4a11-839e-5399213ecf93",
   "metadata": {},
   "outputs": [],
   "source": [
    "def flatten(d):\n",
    "    for v in d.values():\n",
    "        if isinstance(v, dict):\n",
    "            yield from flatten(v)\n",
    "        elif isinstance(v, list):\n",
    "            yield from v"
   ]
  },
  {
   "cell_type": "code",
   "execution_count": 47,
   "id": "7b5aa0c1-e596-4dbe-820b-91385406d390",
   "metadata": {},
   "outputs": [
    {
     "name": "stdout",
     "output_type": "stream",
     "text": [
      "bread\n"
     ]
    }
   ],
   "source": [
    "def get_canonical_name(names):\n",
    "    # \"Heuristic: most frequent core word (e.g., 'chocolate' from variants).\"\n",
    "    token_counts = Counter()\n",
    "    for name in names:\n",
    "        words = normalize(name).split()\n",
    "        token_counts.update(words)\n",
    "    return token_counts.most_common(1)[0][0]\n",
    "\n",
    "print(get_canonical_name(sample))"
   ]
  },
  {
   "cell_type": "code",
   "execution_count": 53,
   "id": "a34cf685-0085-483f-8ef8-8416ad6b21c6",
   "metadata": {},
   "outputs": [
    {
     "name": "stdout",
     "output_type": "stream",
     "text": [
      "achiote + pork + sour orange\n",
      "['achiote', 'pork', 'sour_orange']\n"
     ]
    }
   ],
   "source": [
    "def parse_pairings(raw_string):\n",
    "    if not raw_string or not isinstance(raw_string, str):\n",
    "        return []\n",
    "    parts = [p.strip().lower().replace(\" \", \"_\") for p in raw_string.split(\"+\")]\n",
    "    return [p for p in parts if p]\n",
    "\n",
    "print(flavor_map_sample['pairing'])\n",
    "print(parse_pairings(flavor_map_sample['pairing']))"
   ]
  },
  {
   "cell_type": "code",
   "execution_count": null,
   "id": "41fdcbaa-47b5-4872-bf5f-c43cd9b5df97",
   "metadata": {},
   "outputs": [],
   "source": []
  },
  {
   "cell_type": "code",
   "execution_count": 39,
   "id": "c51db92c-3f56-4eb0-8c89-8a0a7fef96e7",
   "metadata": {},
   "outputs": [],
   "source": []
  },
  {
   "cell_type": "code",
   "execution_count": 37,
   "id": "6c6391aa-c915-4f7d-8e0f-530dd389c6cb",
   "metadata": {},
   "outputs": [],
   "source": [
    "def build_ingredient_model_with_clustered_names(cluster_names, flavor_map):\n",
    "    all_names = list(set(normalize(n) for n in cluster_names))\n",
    "    core = get_cluster_root(cluster_names)\n",
    "    flavor = flavor_map.get(core)\n",
    "    return {\n",
    "        \"id\": core.replace(\" \", \"_\"),\n",
    "        \"name\": core.title(),\n",
    "        \"name_variants\": all_names,\n",
    "        \"status\": \"draft\"\n",
    "    }"
   ]
  },
  {
   "cell_type": "code",
   "execution_count": 56,
   "id": "8eb57a24-8c01-4ef0-88bf-e56664c39d8c",
   "metadata": {},
   "outputs": [],
   "source": [
    "def build_ingredient_model_with_pairings(cluster_data, flavor_map):\n",
    "    normalized_names = [normalize(n) for n in cluster_data]\n",
    "    canonical_name = get_canonical_name(normalized_names)\n",
    "\n",
    "    # Try to get flavor entry using exact match or fallback\n",
    "    flavor_entry = flavor_map.get(canonical_name) or next(\n",
    "        (flavor_map.get(name) for name in normalized_names if flavor_map.get(name)), None\n",
    "    )\n",
    "\n",
    "    # print(flavor_entry)\n",
    "\n",
    "    return {\n",
    "        \"id\": canonical_name.replace(\" \", \"_\"),\n",
    "        \"name\": canonical_name.title(),\n",
    "        \"name_variants\": sorted(set(normalized_names)),\n",
    "        \"pairing_ids\": parse_pairings(flavor_entry.get(\"pairing\")) if flavor_entry else [],\n",
    "        \"status\": \"draft\"\n",
    "    }"
   ]
  },
  {
   "cell_type": "code",
   "execution_count": 58,
   "id": "a692e7dc-a480-4ed7-9fe1-81a35bf521d8",
   "metadata": {},
   "outputs": [
    {
     "name": "stdout",
     "output_type": "stream",
     "text": [
      "{'main': 'ACHIOTE SEEDS', 'pairing': 'achiote + pork + sour orange'}\n"
     ]
    }
   ],
   "source": [
    "def write_cluster_file(clusters, flavor_map, func, file_name):\n",
    "    \n",
    "    ingredient_models = []\n",
    "    \n",
    "    for cluster in clusters.values():\n",
    "        model = func(cluster, flavor_map) #if model == \"build_ingredient_model_with_clustered_names\" else build_ingredient_model_with_pairings(clusters, flavor_map) \n",
    "        ingredient_models.append(model)\n",
    "    \n",
    "    # Save the structured data\n",
    "    with open(file_name, \"w\") as f:\n",
    "        json.dump(ingredient_models, f, indent=2)\n",
    "\n",
    "print(flavor_map['achiote seeds'])\n",
    "write_cluster_file(clusters, flavor_map, build_ingredient_model_with_clustered_names, \"../data/ingredients/ingredients_master.json\")\n",
    "write_cluster_file(clusters, flavor_map, build_ingredient_model_with_pairings, \"../data/ingredients/ingredients_master_1.json\")"
   ]
  },
  {
   "cell_type": "code",
   "execution_count": 63,
   "id": "8cc2fe62-721c-41fa-b45a-966ba0169df0",
   "metadata": {},
   "outputs": [],
   "source": [
    "def build_master_lookup(master_ingredients):\n",
    "    lookup = {}\n",
    "    for item in master_ingredients:\n",
    "        norm_id = normalize(item['id'])\n",
    "        lookup[norm_id] = item\n",
    "        for name in item.get('common_names', []):\n",
    "            lookup[normalize(name)] = item\n",
    "    return lookup"
   ]
  },
  {
   "cell_type": "code",
   "execution_count": 70,
   "id": "e8b0f6f9-632b-42d4-bc97-eaeaab3651b3",
   "metadata": {},
   "outputs": [],
   "source": [
    "from difflib import get_close_matches\n",
    "\n",
    "def merge_ingredient_lists(master_ingredients, food_ingredient_names):\n",
    "    lookup = build_master_lookup(master_ingredients)\n",
    "    merged_ingredients = []\n",
    "    seen_ids = set()\n",
    "\n",
    "    for ingredient in food_ingredient_names:\n",
    "        raw_name=ingredient[\"name\"]\n",
    "        food_name = normalize(raw_name)\n",
    "        matched_key = None\n",
    "\n",
    "        # Exact match\n",
    "        if food_name in lookup:\n",
    "            matched_key = food_name\n",
    "        else:\n",
    "            # Fuzzy match\n",
    "            matches = get_close_matches(food_name, lookup.keys(), n=1, cutoff=0.85)\n",
    "            if matches:\n",
    "                matched_key = matches[0]\n",
    "\n",
    "        if matched_key:\n",
    "            merged = dict(lookup[matched_key])\n",
    "            merged[\"source\"] = list(set(merged.get(\"source\", []) + [\"master\", \"food\"]))\n",
    "            merged_ingredients.append(merged)\n",
    "            seen_ids.add(merged[\"id\"])\n",
    "        else:\n",
    "            # Create a new entry\n",
    "            new_id = food_name\n",
    "            if new_id in seen_ids:\n",
    "                i = 1\n",
    "                while f\"{new_id}_{i}\" in seen_ids:\n",
    "                    i += 1\n",
    "                new_id = f\"{new_id}_{i}\"\n",
    "            new_entry = {\n",
    "                \"id\": new_id,\n",
    "                \"name\": raw_name.title(),\n",
    "                \"common_names\": [food_name],\n",
    "                \"source\": [\"food\"],\n",
    "                \"status\": \"draft\"\n",
    "            }\n",
    "            merged_ingredients.append(new_entry)\n",
    "            seen_ids.add(new_id)\n",
    "\n",
    "    return merged_ingredients"
   ]
  },
  {
   "cell_type": "code",
   "execution_count": null,
   "id": "6f2acb50-a694-4ec7-981e-62175c6c6a81",
   "metadata": {},
   "outputs": [],
   "source": [
    "def merge_ingredient_lists_with_ids(master_ingredients, food_ingredient_names):\n",
    "    lookup = build_master_lookup(master_ingredients)\n",
    "    merged_ingredients = []\n",
    "    seen_ids = set()\n",
    "\n",
    "    for ingredient in food_ingredient_names:\n",
    "        raw_name=ingredient[\"name\"]\n",
    "        food_name = normalize(raw_name)\n",
    "        matched_key = None\n",
    "\n",
    "        # Exact match\n",
    "        if food_name in lookup:\n",
    "            matched_key = food_name\n",
    "        else:\n",
    "            # Fuzzy match\n",
    "            matches = get_close_matches(food_name, lookup.keys(), n=1, cutoff=0.85)\n",
    "            if matches:\n",
    "                matched_key = matches[0]\n",
    "\n",
    "        if matched_key:\n",
    "            merged = dict(lookup[matched_key])\n",
    "            merged[\"source\"] = list(set(merged.get(\"source\", []) + [\"master\", \"food\"]))\n",
    "            merged[\"food_db_id\"] = raw_name\n",
    "            merged_ingredients.append(merged)\n",
    "            seen_ids.add(merged[\"id\"])\n",
    "        else:\n",
    "            # Create a new entry\n",
    "            new_id = food_name\n",
    "            if new_id in seen_ids:\n",
    "                i = 1\n",
    "                while f\"{new_id}_{i}\" in seen_ids:\n",
    "                    i += 1\n",
    "                new_id = f\"{new_id}_{i}\"\n",
    "            new_entry = {\n",
    "                \"id\": new_id,\n",
    "                \"name\": raw_name.title(),\n",
    "                \"common_names\": [food_name],\n",
    "                \"source\": [\"food\"],\n",
    "                \"status\": \"draft\",\n",
    "                \"food_db_id\": raw_name\n",
    "            }\n",
    "            merged_ingredients.append(new_entry)\n",
    "            seen_ids.add(new_id)\n",
    "\n",
    "    return merged_ingredients\n"
   ]
  },
  {
   "cell_type": "code",
   "execution_count": 71,
   "id": "767f5814-c1ac-4429-b325-4c08b149f5df",
   "metadata": {},
   "outputs": [],
   "source": [
    "import json\n",
    "\n",
    "with open(\"../data/ingredients/ingredients_master_1.json\") as f:\n",
    "    master = json.load(f)\n",
    "\n",
    "# /Users/alessandravertrees/Development/interactive-cookbook/data/drafts/foodb/foodb_2020_04_07_json\n",
    "with open(\"../data/drafts/foodb/foodb_2020_04_07_json/Food.json\") as f:\n",
    "    food = json.load(f)\n",
    "\n",
    "food_data = food['data']\n",
    "# print(food['data'])\n",
    "merged = merge_ingredient_lists(master, food_data)\n",
    "\n",
    "# Save to file\n",
    "with open(\"../data/ingredients/merged/ingredients.json\", \"w\") as f:\n",
    "    json.dump(merged, f, indent=2)"
   ]
  },
  {
   "cell_type": "code",
   "execution_count": null,
   "id": "2c8b9402-47d9-479a-ae01-2f274d75909f",
   "metadata": {},
   "outputs": [],
   "source": []
  }
 ],
 "metadata": {
  "kernelspec": {
   "display_name": "Python 3 (ipykernel)",
   "language": "python",
   "name": "python3"
  },
  "language_info": {
   "codemirror_mode": {
    "name": "ipython",
    "version": 3
   },
   "file_extension": ".py",
   "mimetype": "text/x-python",
   "name": "python",
   "nbconvert_exporter": "python",
   "pygments_lexer": "ipython3",
   "version": "3.13.5"
  }
 },
 "nbformat": 4,
 "nbformat_minor": 5
}
